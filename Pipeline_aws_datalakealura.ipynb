{
  "nbformat": 4,
  "nbformat_minor": 0,
  "metadata": {
    "colab": {
      "provenance": [],
      "toc_visible": true,
      "authorship_tag": "ABX9TyN20Mm4qfJnIcnud7i3yFvv",
      "include_colab_link": true
    },
    "kernelspec": {
      "name": "python3",
      "display_name": "Python 3"
    },
    "language_info": {
      "name": "python"
    }
  },
  "cells": [
    {
      "cell_type": "markdown",
      "metadata": {
        "id": "view-in-github",
        "colab_type": "text"
      },
      "source": [
        "<a href=\"https://colab.research.google.com/github/pmsil/pipeline_data_lake_aws_Data_Boston/blob/main/Pipeline_aws_datalakealura.ipynb\" target=\"_parent\"><img src=\"https://colab.research.google.com/assets/colab-badge.svg\" alt=\"Open In Colab\"/></a>"
      ]
    },
    {
      "cell_type": "markdown",
      "source": [
        "# **Pipeline de ingestão de dados externos na AWS**"
      ],
      "metadata": {
        "id": "dPxWwe3yAqe0"
      }
    },
    {
      "cell_type": "markdown",
      "source": [
        "**Objetivo:** Construção de uma pipeline completa para ingestão de dados externos em um data lake na AWS.\n",
        "\n",
        "**Serviços utilizados:**\n",
        "\n",
        "1.   IAM\n",
        "2.   S3\n",
        "3.   Lake Formation\n",
        "\n",
        "**Fonte:** usaremos uma base de dados chamada **Data Boston**, com as informações entre os anos de 2015 e 2020 sobre diversas solicitações da cidade de Boston.\n",
        "\n",
        "**URL:** https://data.boston.gov/dataset/311-service-requests\n",
        "\n",
        "**Observação:** Esse projeto foi criado a partir da:\n",
        "\n",
        "**Formação Alura**: AWS Data Lake: construindo pipelines na AWS\n",
        "\n",
        "**Curso**: AWS Data Lake: criando uma pipeline para ingestão de dados\n",
        "\n",
        "**Instrutora:** Ana Hashimoto"
      ],
      "metadata": {
        "id": "mnOkq0MrmnPU"
      }
    },
    {
      "cell_type": "code",
      "source": [
        "!mkdir -p data"
      ],
      "metadata": {
        "id": "iFmzhvXmh4V9"
      },
      "execution_count": 1,
      "outputs": []
    },
    {
      "cell_type": "code",
      "source": [
        "import urllib.request\n",
        "import pandas as pd\n",
        "from google.colab import userdata\n",
        "from io import BytesIO"
      ],
      "metadata": {
        "id": "QcxczjPFh8vN"
      },
      "execution_count": 29,
      "outputs": []
    },
    {
      "cell_type": "code",
      "source": [
        "pip install boto3"
      ],
      "metadata": {
        "colab": {
          "base_uri": "https://localhost:8080/"
        },
        "id": "_-5hE24ypJd0",
        "outputId": "d038e4df-6257-41ad-9019-1fd70cccdbb2"
      },
      "execution_count": 16,
      "outputs": [
        {
          "output_type": "stream",
          "name": "stdout",
          "text": [
            "Collecting boto3\n",
            "  Downloading boto3-1.34.108-py3-none-any.whl (139 kB)\n",
            "\u001b[2K     \u001b[90m━━━━━━━━━━━━━━━━━━━━━━━━━━━━━━━━━━━━━━━━\u001b[0m \u001b[32m139.3/139.3 kB\u001b[0m \u001b[31m3.5 MB/s\u001b[0m eta \u001b[36m0:00:00\u001b[0m\n",
            "\u001b[?25hCollecting botocore<1.35.0,>=1.34.108 (from boto3)\n",
            "  Downloading botocore-1.34.108-py3-none-any.whl (12.2 MB)\n",
            "\u001b[2K     \u001b[90m━━━━━━━━━━━━━━━━━━━━━━━━━━━━━━━━━━━━━━━━\u001b[0m \u001b[32m12.2/12.2 MB\u001b[0m \u001b[31m30.6 MB/s\u001b[0m eta \u001b[36m0:00:00\u001b[0m\n",
            "\u001b[?25hCollecting jmespath<2.0.0,>=0.7.1 (from boto3)\n",
            "  Downloading jmespath-1.0.1-py3-none-any.whl (20 kB)\n",
            "Collecting s3transfer<0.11.0,>=0.10.0 (from boto3)\n",
            "  Downloading s3transfer-0.10.1-py3-none-any.whl (82 kB)\n",
            "\u001b[2K     \u001b[90m━━━━━━━━━━━━━━━━━━━━━━━━━━━━━━━━━━━━━━━━\u001b[0m \u001b[32m82.2/82.2 kB\u001b[0m \u001b[31m11.2 MB/s\u001b[0m eta \u001b[36m0:00:00\u001b[0m\n",
            "\u001b[?25hRequirement already satisfied: python-dateutil<3.0.0,>=2.1 in /usr/local/lib/python3.10/dist-packages (from botocore<1.35.0,>=1.34.108->boto3) (2.8.2)\n",
            "Requirement already satisfied: urllib3!=2.2.0,<3,>=1.25.4 in /usr/local/lib/python3.10/dist-packages (from botocore<1.35.0,>=1.34.108->boto3) (2.0.7)\n",
            "Requirement already satisfied: six>=1.5 in /usr/local/lib/python3.10/dist-packages (from python-dateutil<3.0.0,>=2.1->botocore<1.35.0,>=1.34.108->boto3) (1.16.0)\n",
            "Installing collected packages: jmespath, botocore, s3transfer, boto3\n",
            "Successfully installed boto3-1.34.108 botocore-1.34.108 jmespath-1.0.1 s3transfer-0.10.1\n"
          ]
        }
      ]
    },
    {
      "cell_type": "code",
      "source": [
        "import boto3"
      ],
      "metadata": {
        "id": "Q-WfIRFcpPkQ"
      },
      "execution_count": 17,
      "outputs": []
    },
    {
      "cell_type": "code",
      "source": [
        "def extract_data(url, filename):\n",
        "  try:\n",
        "    urllib.request.urlretrieve (url, filename)\n",
        "\n",
        "  except Exception as e:\n",
        "    print(e)"
      ],
      "metadata": {
        "id": "exfX7IFriGDM"
      },
      "execution_count": 3,
      "outputs": []
    },
    {
      "cell_type": "code",
      "source": [
        "extract_data(\"https://data.boston.gov/dataset/8048697b-ad64-4bfc-b090-ee00169f2323/resource/c9509ab4-6f6d-4b97-979a-0cf2a10c922b/download/311_service_requests_2015.csv\", \"data/dados_2015.csv\")\n",
        "extract_data(\"https://data.boston.gov/dataset/8048697b-ad64-4bfc-b090-ee00169f2323/resource/b7ea6b1b-3ca4-4c5b-9713-6dc1db52379a/download/311_service_requests_2016.csv\", \"data/dados_2016.csv\")\n",
        "extract_data(\"https://data.boston.gov/dataset/8048697b-ad64-4bfc-b090-ee00169f2323/resource/30022137-709d-465e-baae-ca155b51927d/download/311_service_requests_2017.csv\", \"data/dados_2017.csv\")\n",
        "extract_data(\"https://data.boston.gov/dataset/8048697b-ad64-4bfc-b090-ee00169f2323/resource/2be28d90-3a90-4af1-a3f6-f28c1e25880a/download/311_service_requests_2018.csv\", \"data/dados_2018.csv\")\n",
        "extract_data(\"https://data.boston.gov/dataset/8048697b-ad64-4bfc-b090-ee00169f2323/resource/ea2e4696-4a2d-429c-9807-d02eb92e0222/download/311_service_requests_2019.csv\", \"data/dados_2019.csv\")\n",
        "extract_data(\"https://data.boston.gov/dataset/8048697b-ad64-4bfc-b090-ee00169f2323/resource/6ff6a6fd-3141-4440-a880-6f60a37fe789/download/script_105774672_20210108153400_combine.csv\", \"data/dados_2020.csv\")\n"
      ],
      "metadata": {
        "id": "u0DABAbSirCg"
      },
      "execution_count": 5,
      "outputs": []
    },
    {
      "cell_type": "code",
      "source": [
        "arquivos = [\n",
        "    \"data/dados_2015.csv\",\n",
        "    \"data/dados_2016.csv\",\n",
        "    \"data/dados_2017.csv\",\n",
        "    \"data/dados_2018.csv\",\n",
        "    \"data/dados_2019.csv\",\n",
        "    \"data/dados_2020.csv\",\n",
        "]"
      ],
      "metadata": {
        "id": "nGRZ6CFgj4Y8"
      },
      "execution_count": 10,
      "outputs": []
    },
    {
      "cell_type": "code",
      "source": [
        "dfs = {}"
      ],
      "metadata": {
        "id": "lXekU0uukQnu"
      },
      "execution_count": 7,
      "outputs": []
    },
    {
      "cell_type": "code",
      "source": [
        "for arquivo in arquivos:\n",
        "  ano = arquivo.split(\"_\")[-1].split(\".\")[0]\n",
        "  dfs[ano] = pd.read_csv(arquivo)"
      ],
      "metadata": {
        "id": "RqSbUvF1kaYs"
      },
      "execution_count": 11,
      "outputs": []
    },
    {
      "cell_type": "code",
      "source": [
        "dfs[\"2018\"].head()"
      ],
      "metadata": {
        "colab": {
          "base_uri": "https://localhost:8080/",
          "height": 516
        },
        "id": "E-NCQUA5l-k9",
        "outputId": "e4df37bd-54f5-4c6f-8ed9-11dc469c1af9"
      },
      "execution_count": 15,
      "outputs": [
        {
          "output_type": "execute_result",
          "data": {
            "text/plain": [
              "   case_enquiry_id              open_dt            target_dt  \\\n",
              "0     101002296861  2018-01-01 00:08:00                  NaN   \n",
              "1     101002296862  2018-01-01 00:09:46  2018-01-02 08:30:00   \n",
              "2     101002296864  2018-01-01 00:11:24  2018-01-02 08:30:00   \n",
              "3     101002296865  2018-01-01 00:19:06  2018-01-02 08:30:00   \n",
              "4     101002296866  2018-01-01 00:21:25  2018-01-02 08:30:00   \n",
              "\n",
              "             closed_dt   ontime case_status  \\\n",
              "0  2018-03-01 15:18:12   ONTIME      Closed   \n",
              "1  2018-01-02 21:15:22  OVERDUE      Closed   \n",
              "2  2018-01-02 21:15:11  OVERDUE      Closed   \n",
              "3  2018-01-02 21:14:48  OVERDUE      Closed   \n",
              "4  2018-01-02 21:14:32  OVERDUE      Closed   \n",
              "\n",
              "                                      closure_reason           case_title  \\\n",
              "0  Case Closed. Closed date : 2018-03-01 15:18:12...         Fire Hydrant   \n",
              "1  Case Closed. Closed date : 2018-01-02 21:15:22...  Parking Enforcement   \n",
              "2  Case Closed. Closed date : 2018-01-02 21:15:11...  Parking Enforcement   \n",
              "3  Case Closed. Closed date : 2018-01-02 21:14:48...  Parking Enforcement   \n",
              "4  Case Closed. Closed date : 2018-01-02 21:14:32...  Parking Enforcement   \n",
              "\n",
              "                             subject                            reason  ...  \\\n",
              "0    Boston Water & Sewer Commission                      Fire Hydrant  ...   \n",
              "1  Transportation - Traffic Division  Enforcement & Abandoned Vehicles  ...   \n",
              "2  Transportation - Traffic Division  Enforcement & Abandoned Vehicles  ...   \n",
              "3  Transportation - Traffic Division  Enforcement & Abandoned Vehicles  ...   \n",
              "4  Transportation - Traffic Division  Enforcement & Abandoned Vehicles  ...   \n",
              "\n",
              "  police_district                            neighborhood  \\\n",
              "0             E13                           Jamaica Plain   \n",
              "1              C6  South Boston / South Boston Waterfront   \n",
              "2              C6  South Boston / South Boston Waterfront   \n",
              "3              B3                              Dorchester   \n",
              "4              B3                              Dorchester   \n",
              "\n",
              "  neighborhood_services_district     ward precinct  \\\n",
              "0                             11  Ward 19     1903   \n",
              "1                              5   Ward 6     0604   \n",
              "2                              5   Ward 6     0604   \n",
              "3                              9       17     1701   \n",
              "4                              9  Ward 17     1701   \n",
              "\n",
              "                     location_street_name location_zipcode latitude longitude  \\\n",
              "0                           413 Centre St           2130.0  42.3214  -71.1109   \n",
              "1                         428 W Second St           2127.0  42.3373  -71.0445   \n",
              "2                     401-403 W Second St           2127.0  42.3371  -71.0442   \n",
              "3  INTERSECTION School St & Washington St              NaN  42.3594  -71.0587   \n",
              "4                           6-8 School St           2124.0  42.2965  -71.0729   \n",
              "\n",
              "                 source  \n",
              "0      Constituent Call  \n",
              "1  Citizens Connect App  \n",
              "2  Citizens Connect App  \n",
              "3  Citizens Connect App  \n",
              "4  Citizens Connect App  \n",
              "\n",
              "[5 rows x 29 columns]"
            ],
            "text/html": [
              "\n",
              "  <div id=\"df-1c5b3a24-4327-41b8-ac2c-340698ecae39\" class=\"colab-df-container\">\n",
              "    <div>\n",
              "<style scoped>\n",
              "    .dataframe tbody tr th:only-of-type {\n",
              "        vertical-align: middle;\n",
              "    }\n",
              "\n",
              "    .dataframe tbody tr th {\n",
              "        vertical-align: top;\n",
              "    }\n",
              "\n",
              "    .dataframe thead th {\n",
              "        text-align: right;\n",
              "    }\n",
              "</style>\n",
              "<table border=\"1\" class=\"dataframe\">\n",
              "  <thead>\n",
              "    <tr style=\"text-align: right;\">\n",
              "      <th></th>\n",
              "      <th>case_enquiry_id</th>\n",
              "      <th>open_dt</th>\n",
              "      <th>target_dt</th>\n",
              "      <th>closed_dt</th>\n",
              "      <th>ontime</th>\n",
              "      <th>case_status</th>\n",
              "      <th>closure_reason</th>\n",
              "      <th>case_title</th>\n",
              "      <th>subject</th>\n",
              "      <th>reason</th>\n",
              "      <th>...</th>\n",
              "      <th>police_district</th>\n",
              "      <th>neighborhood</th>\n",
              "      <th>neighborhood_services_district</th>\n",
              "      <th>ward</th>\n",
              "      <th>precinct</th>\n",
              "      <th>location_street_name</th>\n",
              "      <th>location_zipcode</th>\n",
              "      <th>latitude</th>\n",
              "      <th>longitude</th>\n",
              "      <th>source</th>\n",
              "    </tr>\n",
              "  </thead>\n",
              "  <tbody>\n",
              "    <tr>\n",
              "      <th>0</th>\n",
              "      <td>101002296861</td>\n",
              "      <td>2018-01-01 00:08:00</td>\n",
              "      <td>NaN</td>\n",
              "      <td>2018-03-01 15:18:12</td>\n",
              "      <td>ONTIME</td>\n",
              "      <td>Closed</td>\n",
              "      <td>Case Closed. Closed date : 2018-03-01 15:18:12...</td>\n",
              "      <td>Fire Hydrant</td>\n",
              "      <td>Boston Water &amp; Sewer Commission</td>\n",
              "      <td>Fire Hydrant</td>\n",
              "      <td>...</td>\n",
              "      <td>E13</td>\n",
              "      <td>Jamaica Plain</td>\n",
              "      <td>11</td>\n",
              "      <td>Ward 19</td>\n",
              "      <td>1903</td>\n",
              "      <td>413 Centre St</td>\n",
              "      <td>2130.0</td>\n",
              "      <td>42.3214</td>\n",
              "      <td>-71.1109</td>\n",
              "      <td>Constituent Call</td>\n",
              "    </tr>\n",
              "    <tr>\n",
              "      <th>1</th>\n",
              "      <td>101002296862</td>\n",
              "      <td>2018-01-01 00:09:46</td>\n",
              "      <td>2018-01-02 08:30:00</td>\n",
              "      <td>2018-01-02 21:15:22</td>\n",
              "      <td>OVERDUE</td>\n",
              "      <td>Closed</td>\n",
              "      <td>Case Closed. Closed date : 2018-01-02 21:15:22...</td>\n",
              "      <td>Parking Enforcement</td>\n",
              "      <td>Transportation - Traffic Division</td>\n",
              "      <td>Enforcement &amp; Abandoned Vehicles</td>\n",
              "      <td>...</td>\n",
              "      <td>C6</td>\n",
              "      <td>South Boston / South Boston Waterfront</td>\n",
              "      <td>5</td>\n",
              "      <td>Ward 6</td>\n",
              "      <td>0604</td>\n",
              "      <td>428 W Second St</td>\n",
              "      <td>2127.0</td>\n",
              "      <td>42.3373</td>\n",
              "      <td>-71.0445</td>\n",
              "      <td>Citizens Connect App</td>\n",
              "    </tr>\n",
              "    <tr>\n",
              "      <th>2</th>\n",
              "      <td>101002296864</td>\n",
              "      <td>2018-01-01 00:11:24</td>\n",
              "      <td>2018-01-02 08:30:00</td>\n",
              "      <td>2018-01-02 21:15:11</td>\n",
              "      <td>OVERDUE</td>\n",
              "      <td>Closed</td>\n",
              "      <td>Case Closed. Closed date : 2018-01-02 21:15:11...</td>\n",
              "      <td>Parking Enforcement</td>\n",
              "      <td>Transportation - Traffic Division</td>\n",
              "      <td>Enforcement &amp; Abandoned Vehicles</td>\n",
              "      <td>...</td>\n",
              "      <td>C6</td>\n",
              "      <td>South Boston / South Boston Waterfront</td>\n",
              "      <td>5</td>\n",
              "      <td>Ward 6</td>\n",
              "      <td>0604</td>\n",
              "      <td>401-403 W Second St</td>\n",
              "      <td>2127.0</td>\n",
              "      <td>42.3371</td>\n",
              "      <td>-71.0442</td>\n",
              "      <td>Citizens Connect App</td>\n",
              "    </tr>\n",
              "    <tr>\n",
              "      <th>3</th>\n",
              "      <td>101002296865</td>\n",
              "      <td>2018-01-01 00:19:06</td>\n",
              "      <td>2018-01-02 08:30:00</td>\n",
              "      <td>2018-01-02 21:14:48</td>\n",
              "      <td>OVERDUE</td>\n",
              "      <td>Closed</td>\n",
              "      <td>Case Closed. Closed date : 2018-01-02 21:14:48...</td>\n",
              "      <td>Parking Enforcement</td>\n",
              "      <td>Transportation - Traffic Division</td>\n",
              "      <td>Enforcement &amp; Abandoned Vehicles</td>\n",
              "      <td>...</td>\n",
              "      <td>B3</td>\n",
              "      <td>Dorchester</td>\n",
              "      <td>9</td>\n",
              "      <td>17</td>\n",
              "      <td>1701</td>\n",
              "      <td>INTERSECTION School St &amp; Washington St</td>\n",
              "      <td>NaN</td>\n",
              "      <td>42.3594</td>\n",
              "      <td>-71.0587</td>\n",
              "      <td>Citizens Connect App</td>\n",
              "    </tr>\n",
              "    <tr>\n",
              "      <th>4</th>\n",
              "      <td>101002296866</td>\n",
              "      <td>2018-01-01 00:21:25</td>\n",
              "      <td>2018-01-02 08:30:00</td>\n",
              "      <td>2018-01-02 21:14:32</td>\n",
              "      <td>OVERDUE</td>\n",
              "      <td>Closed</td>\n",
              "      <td>Case Closed. Closed date : 2018-01-02 21:14:32...</td>\n",
              "      <td>Parking Enforcement</td>\n",
              "      <td>Transportation - Traffic Division</td>\n",
              "      <td>Enforcement &amp; Abandoned Vehicles</td>\n",
              "      <td>...</td>\n",
              "      <td>B3</td>\n",
              "      <td>Dorchester</td>\n",
              "      <td>9</td>\n",
              "      <td>Ward 17</td>\n",
              "      <td>1701</td>\n",
              "      <td>6-8 School St</td>\n",
              "      <td>2124.0</td>\n",
              "      <td>42.2965</td>\n",
              "      <td>-71.0729</td>\n",
              "      <td>Citizens Connect App</td>\n",
              "    </tr>\n",
              "  </tbody>\n",
              "</table>\n",
              "<p>5 rows × 29 columns</p>\n",
              "</div>\n",
              "    <div class=\"colab-df-buttons\">\n",
              "\n",
              "  <div class=\"colab-df-container\">\n",
              "    <button class=\"colab-df-convert\" onclick=\"convertToInteractive('df-1c5b3a24-4327-41b8-ac2c-340698ecae39')\"\n",
              "            title=\"Convert this dataframe to an interactive table.\"\n",
              "            style=\"display:none;\">\n",
              "\n",
              "  <svg xmlns=\"http://www.w3.org/2000/svg\" height=\"24px\" viewBox=\"0 -960 960 960\">\n",
              "    <path d=\"M120-120v-720h720v720H120Zm60-500h600v-160H180v160Zm220 220h160v-160H400v160Zm0 220h160v-160H400v160ZM180-400h160v-160H180v160Zm440 0h160v-160H620v160ZM180-180h160v-160H180v160Zm440 0h160v-160H620v160Z\"/>\n",
              "  </svg>\n",
              "    </button>\n",
              "\n",
              "  <style>\n",
              "    .colab-df-container {\n",
              "      display:flex;\n",
              "      gap: 12px;\n",
              "    }\n",
              "\n",
              "    .colab-df-convert {\n",
              "      background-color: #E8F0FE;\n",
              "      border: none;\n",
              "      border-radius: 50%;\n",
              "      cursor: pointer;\n",
              "      display: none;\n",
              "      fill: #1967D2;\n",
              "      height: 32px;\n",
              "      padding: 0 0 0 0;\n",
              "      width: 32px;\n",
              "    }\n",
              "\n",
              "    .colab-df-convert:hover {\n",
              "      background-color: #E2EBFA;\n",
              "      box-shadow: 0px 1px 2px rgba(60, 64, 67, 0.3), 0px 1px 3px 1px rgba(60, 64, 67, 0.15);\n",
              "      fill: #174EA6;\n",
              "    }\n",
              "\n",
              "    .colab-df-buttons div {\n",
              "      margin-bottom: 4px;\n",
              "    }\n",
              "\n",
              "    [theme=dark] .colab-df-convert {\n",
              "      background-color: #3B4455;\n",
              "      fill: #D2E3FC;\n",
              "    }\n",
              "\n",
              "    [theme=dark] .colab-df-convert:hover {\n",
              "      background-color: #434B5C;\n",
              "      box-shadow: 0px 1px 3px 1px rgba(0, 0, 0, 0.15);\n",
              "      filter: drop-shadow(0px 1px 2px rgba(0, 0, 0, 0.3));\n",
              "      fill: #FFFFFF;\n",
              "    }\n",
              "  </style>\n",
              "\n",
              "    <script>\n",
              "      const buttonEl =\n",
              "        document.querySelector('#df-1c5b3a24-4327-41b8-ac2c-340698ecae39 button.colab-df-convert');\n",
              "      buttonEl.style.display =\n",
              "        google.colab.kernel.accessAllowed ? 'block' : 'none';\n",
              "\n",
              "      async function convertToInteractive(key) {\n",
              "        const element = document.querySelector('#df-1c5b3a24-4327-41b8-ac2c-340698ecae39');\n",
              "        const dataTable =\n",
              "          await google.colab.kernel.invokeFunction('convertToInteractive',\n",
              "                                                    [key], {});\n",
              "        if (!dataTable) return;\n",
              "\n",
              "        const docLinkHtml = 'Like what you see? Visit the ' +\n",
              "          '<a target=\"_blank\" href=https://colab.research.google.com/notebooks/data_table.ipynb>data table notebook</a>'\n",
              "          + ' to learn more about interactive tables.';\n",
              "        element.innerHTML = '';\n",
              "        dataTable['output_type'] = 'display_data';\n",
              "        await google.colab.output.renderOutput(dataTable, element);\n",
              "        const docLink = document.createElement('div');\n",
              "        docLink.innerHTML = docLinkHtml;\n",
              "        element.appendChild(docLink);\n",
              "      }\n",
              "    </script>\n",
              "  </div>\n",
              "\n",
              "\n",
              "<div id=\"df-bb4a1429-22d7-4e15-ab8c-65358747525f\">\n",
              "  <button class=\"colab-df-quickchart\" onclick=\"quickchart('df-bb4a1429-22d7-4e15-ab8c-65358747525f')\"\n",
              "            title=\"Suggest charts\"\n",
              "            style=\"display:none;\">\n",
              "\n",
              "<svg xmlns=\"http://www.w3.org/2000/svg\" height=\"24px\"viewBox=\"0 0 24 24\"\n",
              "     width=\"24px\">\n",
              "    <g>\n",
              "        <path d=\"M19 3H5c-1.1 0-2 .9-2 2v14c0 1.1.9 2 2 2h14c1.1 0 2-.9 2-2V5c0-1.1-.9-2-2-2zM9 17H7v-7h2v7zm4 0h-2V7h2v10zm4 0h-2v-4h2v4z\"/>\n",
              "    </g>\n",
              "</svg>\n",
              "  </button>\n",
              "\n",
              "<style>\n",
              "  .colab-df-quickchart {\n",
              "      --bg-color: #E8F0FE;\n",
              "      --fill-color: #1967D2;\n",
              "      --hover-bg-color: #E2EBFA;\n",
              "      --hover-fill-color: #174EA6;\n",
              "      --disabled-fill-color: #AAA;\n",
              "      --disabled-bg-color: #DDD;\n",
              "  }\n",
              "\n",
              "  [theme=dark] .colab-df-quickchart {\n",
              "      --bg-color: #3B4455;\n",
              "      --fill-color: #D2E3FC;\n",
              "      --hover-bg-color: #434B5C;\n",
              "      --hover-fill-color: #FFFFFF;\n",
              "      --disabled-bg-color: #3B4455;\n",
              "      --disabled-fill-color: #666;\n",
              "  }\n",
              "\n",
              "  .colab-df-quickchart {\n",
              "    background-color: var(--bg-color);\n",
              "    border: none;\n",
              "    border-radius: 50%;\n",
              "    cursor: pointer;\n",
              "    display: none;\n",
              "    fill: var(--fill-color);\n",
              "    height: 32px;\n",
              "    padding: 0;\n",
              "    width: 32px;\n",
              "  }\n",
              "\n",
              "  .colab-df-quickchart:hover {\n",
              "    background-color: var(--hover-bg-color);\n",
              "    box-shadow: 0 1px 2px rgba(60, 64, 67, 0.3), 0 1px 3px 1px rgba(60, 64, 67, 0.15);\n",
              "    fill: var(--button-hover-fill-color);\n",
              "  }\n",
              "\n",
              "  .colab-df-quickchart-complete:disabled,\n",
              "  .colab-df-quickchart-complete:disabled:hover {\n",
              "    background-color: var(--disabled-bg-color);\n",
              "    fill: var(--disabled-fill-color);\n",
              "    box-shadow: none;\n",
              "  }\n",
              "\n",
              "  .colab-df-spinner {\n",
              "    border: 2px solid var(--fill-color);\n",
              "    border-color: transparent;\n",
              "    border-bottom-color: var(--fill-color);\n",
              "    animation:\n",
              "      spin 1s steps(1) infinite;\n",
              "  }\n",
              "\n",
              "  @keyframes spin {\n",
              "    0% {\n",
              "      border-color: transparent;\n",
              "      border-bottom-color: var(--fill-color);\n",
              "      border-left-color: var(--fill-color);\n",
              "    }\n",
              "    20% {\n",
              "      border-color: transparent;\n",
              "      border-left-color: var(--fill-color);\n",
              "      border-top-color: var(--fill-color);\n",
              "    }\n",
              "    30% {\n",
              "      border-color: transparent;\n",
              "      border-left-color: var(--fill-color);\n",
              "      border-top-color: var(--fill-color);\n",
              "      border-right-color: var(--fill-color);\n",
              "    }\n",
              "    40% {\n",
              "      border-color: transparent;\n",
              "      border-right-color: var(--fill-color);\n",
              "      border-top-color: var(--fill-color);\n",
              "    }\n",
              "    60% {\n",
              "      border-color: transparent;\n",
              "      border-right-color: var(--fill-color);\n",
              "    }\n",
              "    80% {\n",
              "      border-color: transparent;\n",
              "      border-right-color: var(--fill-color);\n",
              "      border-bottom-color: var(--fill-color);\n",
              "    }\n",
              "    90% {\n",
              "      border-color: transparent;\n",
              "      border-bottom-color: var(--fill-color);\n",
              "    }\n",
              "  }\n",
              "</style>\n",
              "\n",
              "  <script>\n",
              "    async function quickchart(key) {\n",
              "      const quickchartButtonEl =\n",
              "        document.querySelector('#' + key + ' button');\n",
              "      quickchartButtonEl.disabled = true;  // To prevent multiple clicks.\n",
              "      quickchartButtonEl.classList.add('colab-df-spinner');\n",
              "      try {\n",
              "        const charts = await google.colab.kernel.invokeFunction(\n",
              "            'suggestCharts', [key], {});\n",
              "      } catch (error) {\n",
              "        console.error('Error during call to suggestCharts:', error);\n",
              "      }\n",
              "      quickchartButtonEl.classList.remove('colab-df-spinner');\n",
              "      quickchartButtonEl.classList.add('colab-df-quickchart-complete');\n",
              "    }\n",
              "    (() => {\n",
              "      let quickchartButtonEl =\n",
              "        document.querySelector('#df-bb4a1429-22d7-4e15-ab8c-65358747525f button');\n",
              "      quickchartButtonEl.style.display =\n",
              "        google.colab.kernel.accessAllowed ? 'block' : 'none';\n",
              "    })();\n",
              "  </script>\n",
              "</div>\n",
              "\n",
              "    </div>\n",
              "  </div>\n"
            ],
            "application/vnd.google.colaboratory.intrinsic+json": {
              "type": "dataframe"
            }
          },
          "metadata": {},
          "execution_count": 15
        }
      ]
    },
    {
      "cell_type": "markdown",
      "source": [
        "Conectando a conta de armazenamento"
      ],
      "metadata": {
        "id": "hwmYj4wfo7hN"
      }
    },
    {
      "cell_type": "code",
      "source": [
        "# Utilizei o secrets do google colab para proteger os dados de acesso\n",
        "\n",
        "aws_access_key_id = userdata.get('aws_access_key_id')\n",
        "aws_secret_access_key = userdata.get('aws_secret_access_key')\n",
        "region_name = \"us-east-2\"\n",
        "\n",
        "boto3.setup_default_session(\n",
        "    aws_access_key_id = aws_access_key_id,\n",
        "    aws_secret_access_key = aws_secret_access_key,\n",
        "    region_name = region_name,\n",
        ")\n",
        "\n",
        "s3 = boto3.client(\"s3\")"
      ],
      "metadata": {
        "id": "iXtG9nSlpBlJ"
      },
      "execution_count": 34,
      "outputs": []
    },
    {
      "cell_type": "code",
      "source": [
        "content = \"\"\"\n",
        "Olá, S3\"\n",
        "\"\"\"\n",
        "with open (\"hello-secret-s3.txt\", \"w+\") as f:\n",
        "  f.write(content)"
      ],
      "metadata": {
        "id": "iipJNviyqc1W"
      },
      "execution_count": 31,
      "outputs": []
    },
    {
      "cell_type": "code",
      "source": [
        "s3.upload_file(\"hello-secret-s3.txt\", \"alura-datalakeaws-pmsil\", \"bronze/hello-secret-s3\")"
      ],
      "metadata": {
        "id": "mhSscWecsBZs"
      },
      "execution_count": 33,
      "outputs": []
    },
    {
      "cell_type": "markdown",
      "source": [
        "Salvar arquivo em Parquet"
      ],
      "metadata": {
        "id": "zhgbsrt2uthv"
      }
    },
    {
      "cell_type": "code",
      "source": [
        "for ano, df in dfs.items():\n",
        "  parquet_buffer = BytesIO()\n",
        "  df.to_parquet(parquet_buffer)\n",
        "\n",
        "  s3.put_object(\n",
        "      Bucket = \"alura-datalakeaws-pmsil\",\n",
        "      Key=f\"bronze/dados_{ano}.parquet\",\n",
        "      Body=parquet_buffer.getvalue(),\n",
        "  )"
      ],
      "metadata": {
        "id": "D1vl8jKNuxBa"
      },
      "execution_count": 24,
      "outputs": []
    },
    {
      "cell_type": "code",
      "source": [
        "response = s3.list_objects(Bucket = \"alura-datalakeaws-pmsil\")"
      ],
      "metadata": {
        "id": "sUl_CBCiw2uV"
      },
      "execution_count": 25,
      "outputs": []
    },
    {
      "cell_type": "code",
      "source": [
        "keys = [obj[\"Key\"] for obj in response [\"Contents\"]]\n",
        "print(keys)"
      ],
      "metadata": {
        "colab": {
          "base_uri": "https://localhost:8080/"
        },
        "id": "xPNMufKvxIEn",
        "outputId": "1ba29c27-f4ca-4c26-c554-25cb5884ca27"
      },
      "execution_count": 27,
      "outputs": [
        {
          "output_type": "stream",
          "name": "stdout",
          "text": [
            "['bronze/', 'bronze/dados_2015.parquet', 'bronze/dados_2016.parquet', 'bronze/dados_2017.parquet', 'bronze/dados_2018.parquet', 'bronze/dados_2019.parquet', 'bronze/dados_2020.parquet', 'bronze/hello-s3', 'silver/']\n"
          ]
        }
      ]
    }
  ]
}